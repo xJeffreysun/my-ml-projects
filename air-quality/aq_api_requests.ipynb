{
 "metadata": {
  "language_info": {
   "codemirror_mode": {
    "name": "ipython",
    "version": 3
   },
   "file_extension": ".py",
   "mimetype": "text/x-python",
   "name": "python",
   "nbconvert_exporter": "python",
   "pygments_lexer": "ipython3",
   "version": "3.8.3-final"
  },
  "orig_nbformat": 2,
  "kernelspec": {
   "name": "python3",
   "display_name": "Python 3"
  }
 },
 "nbformat": 4,
 "nbformat_minor": 2,
 "cells": [
  {
   "cell_type": "code",
   "execution_count": 11,
   "metadata": {},
   "outputs": [],
   "source": [
    "# imports\n",
    "import requests"
   ]
  },
  {
   "cell_type": "code",
   "execution_count": 12,
   "metadata": {},
   "outputs": [
    {
     "output_type": "execute_result",
     "data": {
      "text/plain": [
       "requests.models.Response"
      ]
     },
     "metadata": {},
     "execution_count": 12
    }
   ],
   "source": [
    "status = requests.get('https://aqs.epa.gov/data/api/metaData/isAvailable')\n",
    "type(status)"
   ]
  },
  {
   "cell_type": "code",
   "execution_count": 13,
   "metadata": {},
   "outputs": [],
   "source": [
    "states = requests.get('https://aqs.epa.gov/data/api/list/states', params={'key': 'bluecrane69', 'email': 'js66@illinois.edu'})"
   ]
  },
  {
   "cell_type": "code",
   "execution_count": 14,
   "metadata": {},
   "outputs": [
    {
     "output_type": "execute_result",
     "data": {
      "text/plain": [
       "{'Header': [{'status': 'Success',\n",
       "   'request_time': '2020-11-13T16:04:07-05:00',\n",
       "   'url': 'https://aqs.epa.gov/data/api/list/states?key=bluecrane69&email=js66%40illinois.edu',\n",
       "   'rows': 56}],\n",
       " 'Data': [{'code': '01', 'value_represented': 'Alabama'},\n",
       "  {'code': '02', 'value_represented': 'Alaska'},\n",
       "  {'code': '04', 'value_represented': 'Arizona'},\n",
       "  {'code': '05', 'value_represented': 'Arkansas'},\n",
       "  {'code': '06', 'value_represented': 'California'},\n",
       "  {'code': '08', 'value_represented': 'Colorado'},\n",
       "  {'code': '09', 'value_represented': 'Connecticut'},\n",
       "  {'code': '10', 'value_represented': 'Delaware'},\n",
       "  {'code': '11', 'value_represented': 'District Of Columbia'},\n",
       "  {'code': '12', 'value_represented': 'Florida'},\n",
       "  {'code': '13', 'value_represented': 'Georgia'},\n",
       "  {'code': '15', 'value_represented': 'Hawaii'},\n",
       "  {'code': '16', 'value_represented': 'Idaho'},\n",
       "  {'code': '17', 'value_represented': 'Illinois'},\n",
       "  {'code': '18', 'value_represented': 'Indiana'},\n",
       "  {'code': '19', 'value_represented': 'Iowa'},\n",
       "  {'code': '20', 'value_represented': 'Kansas'},\n",
       "  {'code': '21', 'value_represented': 'Kentucky'},\n",
       "  {'code': '22', 'value_represented': 'Louisiana'},\n",
       "  {'code': '23', 'value_represented': 'Maine'},\n",
       "  {'code': '24', 'value_represented': 'Maryland'},\n",
       "  {'code': '25', 'value_represented': 'Massachusetts'},\n",
       "  {'code': '26', 'value_represented': 'Michigan'},\n",
       "  {'code': '27', 'value_represented': 'Minnesota'},\n",
       "  {'code': '28', 'value_represented': 'Mississippi'},\n",
       "  {'code': '29', 'value_represented': 'Missouri'},\n",
       "  {'code': '30', 'value_represented': 'Montana'},\n",
       "  {'code': '31', 'value_represented': 'Nebraska'},\n",
       "  {'code': '32', 'value_represented': 'Nevada'},\n",
       "  {'code': '33', 'value_represented': 'New Hampshire'},\n",
       "  {'code': '34', 'value_represented': 'New Jersey'},\n",
       "  {'code': '35', 'value_represented': 'New Mexico'},\n",
       "  {'code': '36', 'value_represented': 'New York'},\n",
       "  {'code': '37', 'value_represented': 'North Carolina'},\n",
       "  {'code': '38', 'value_represented': 'North Dakota'},\n",
       "  {'code': '39', 'value_represented': 'Ohio'},\n",
       "  {'code': '40', 'value_represented': 'Oklahoma'},\n",
       "  {'code': '41', 'value_represented': 'Oregon'},\n",
       "  {'code': '42', 'value_represented': 'Pennsylvania'},\n",
       "  {'code': '44', 'value_represented': 'Rhode Island'},\n",
       "  {'code': '45', 'value_represented': 'South Carolina'},\n",
       "  {'code': '46', 'value_represented': 'South Dakota'},\n",
       "  {'code': '47', 'value_represented': 'Tennessee'},\n",
       "  {'code': '48', 'value_represented': 'Texas'},\n",
       "  {'code': '49', 'value_represented': 'Utah'},\n",
       "  {'code': '50', 'value_represented': 'Vermont'},\n",
       "  {'code': '51', 'value_represented': 'Virginia'},\n",
       "  {'code': '53', 'value_represented': 'Washington'},\n",
       "  {'code': '54', 'value_represented': 'West Virginia'},\n",
       "  {'code': '55', 'value_represented': 'Wisconsin'},\n",
       "  {'code': '56', 'value_represented': 'Wyoming'},\n",
       "  {'code': '66', 'value_represented': 'Guam'},\n",
       "  {'code': '72', 'value_represented': 'Puerto Rico'},\n",
       "  {'code': '78', 'value_represented': 'Virgin Islands'},\n",
       "  {'code': '80', 'value_represented': 'Country Of Mexico'},\n",
       "  {'code': 'CC', 'value_represented': 'Canada'}]}"
      ]
     },
     "metadata": {},
     "execution_count": 14
    }
   ],
   "source": [
    "states.json()"
   ]
  },
  {
   "cell_type": "code",
   "execution_count": 15,
   "metadata": {},
   "outputs": [],
   "source": [
    "counties_in_alabama = requests.get('https://aqs.epa.gov/data/api/list/countiesByState', params={'key': 'bluecrane69', 'email': 'js66@illinois.edu', 'state': '01'})"
   ]
  },
  {
   "cell_type": "code",
   "execution_count": 16,
   "metadata": {},
   "outputs": [
    {
     "output_type": "execute_result",
     "data": {
      "text/plain": [
       "{'Header': [{'status': 'Success',\n",
       "   'request_time': '2020-11-13T16:06:22-05:00',\n",
       "   'url': 'https://aqs.epa.gov/data/api/list/countiesByState?key=bluecrane69&email=js66%40illinois.edu&state=01',\n",
       "   'rows': 67}],\n",
       " 'Data': [{'code': '001', 'value_represented': 'Autauga'},\n",
       "  {'code': '003', 'value_represented': 'Baldwin'},\n",
       "  {'code': '005', 'value_represented': 'Barbour'},\n",
       "  {'code': '007', 'value_represented': 'Bibb'},\n",
       "  {'code': '009', 'value_represented': 'Blount'},\n",
       "  {'code': '011', 'value_represented': 'Bullock'},\n",
       "  {'code': '013', 'value_represented': 'Butler'},\n",
       "  {'code': '015', 'value_represented': 'Calhoun'},\n",
       "  {'code': '017', 'value_represented': 'Chambers'},\n",
       "  {'code': '019', 'value_represented': 'Cherokee'},\n",
       "  {'code': '021', 'value_represented': 'Chilton'},\n",
       "  {'code': '023', 'value_represented': 'Choctaw'},\n",
       "  {'code': '025', 'value_represented': 'Clarke'},\n",
       "  {'code': '027', 'value_represented': 'Clay'},\n",
       "  {'code': '029', 'value_represented': 'Cleburne'},\n",
       "  {'code': '031', 'value_represented': 'Coffee'},\n",
       "  {'code': '033', 'value_represented': 'Colbert'},\n",
       "  {'code': '035', 'value_represented': 'Conecuh'},\n",
       "  {'code': '037', 'value_represented': 'Coosa'},\n",
       "  {'code': '039', 'value_represented': 'Covington'},\n",
       "  {'code': '041', 'value_represented': 'Crenshaw'},\n",
       "  {'code': '043', 'value_represented': 'Cullman'},\n",
       "  {'code': '045', 'value_represented': 'Dale'},\n",
       "  {'code': '047', 'value_represented': 'Dallas'},\n",
       "  {'code': '049', 'value_represented': 'DeKalb'},\n",
       "  {'code': '051', 'value_represented': 'Elmore'},\n",
       "  {'code': '053', 'value_represented': 'Escambia'},\n",
       "  {'code': '055', 'value_represented': 'Etowah'},\n",
       "  {'code': '057', 'value_represented': 'Fayette'},\n",
       "  {'code': '059', 'value_represented': 'Franklin'},\n",
       "  {'code': '061', 'value_represented': 'Geneva'},\n",
       "  {'code': '063', 'value_represented': 'Greene'},\n",
       "  {'code': '065', 'value_represented': 'Hale'},\n",
       "  {'code': '067', 'value_represented': 'Henry'},\n",
       "  {'code': '069', 'value_represented': 'Houston'},\n",
       "  {'code': '071', 'value_represented': 'Jackson'},\n",
       "  {'code': '073', 'value_represented': 'Jefferson'},\n",
       "  {'code': '075', 'value_represented': 'Lamar'},\n",
       "  {'code': '077', 'value_represented': 'Lauderdale'},\n",
       "  {'code': '079', 'value_represented': 'Lawrence'},\n",
       "  {'code': '081', 'value_represented': 'Lee'},\n",
       "  {'code': '083', 'value_represented': 'Limestone'},\n",
       "  {'code': '085', 'value_represented': 'Lowndes'},\n",
       "  {'code': '087', 'value_represented': 'Macon'},\n",
       "  {'code': '089', 'value_represented': 'Madison'},\n",
       "  {'code': '091', 'value_represented': 'Marengo'},\n",
       "  {'code': '093', 'value_represented': 'Marion'},\n",
       "  {'code': '095', 'value_represented': 'Marshall'},\n",
       "  {'code': '097', 'value_represented': 'Mobile'},\n",
       "  {'code': '099', 'value_represented': 'Monroe'},\n",
       "  {'code': '101', 'value_represented': 'Montgomery'},\n",
       "  {'code': '103', 'value_represented': 'Morgan'},\n",
       "  {'code': '105', 'value_represented': 'Perry'},\n",
       "  {'code': '107', 'value_represented': 'Pickens'},\n",
       "  {'code': '109', 'value_represented': 'Pike'},\n",
       "  {'code': '111', 'value_represented': 'Randolph'},\n",
       "  {'code': '113', 'value_represented': 'Russell'},\n",
       "  {'code': '115', 'value_represented': 'St. Clair'},\n",
       "  {'code': '117', 'value_represented': 'Shelby'},\n",
       "  {'code': '119', 'value_represented': 'Sumter'},\n",
       "  {'code': '121', 'value_represented': 'Talladega'},\n",
       "  {'code': '123', 'value_represented': 'Tallapoosa'},\n",
       "  {'code': '125', 'value_represented': 'Tuscaloosa'},\n",
       "  {'code': '127', 'value_represented': 'Walker'},\n",
       "  {'code': '129', 'value_represented': 'Washington'},\n",
       "  {'code': '131', 'value_represented': 'Wilcox'},\n",
       "  {'code': '133', 'value_represented': 'Winston'}]}"
      ]
     },
     "metadata": {},
     "execution_count": 16
    }
   ],
   "source": [
    "counties_in_alabama.json()"
   ]
  },
  {
   "cell_type": "code",
   "execution_count": 17,
   "metadata": {},
   "outputs": [],
   "source": [
    "parameter_classes = requests.get('https://aqs.epa.gov/data/api/list/classes', params={'email': 'js66@illinois.edu', 'key': 'bluecrane69'})"
   ]
  },
  {
   "cell_type": "code",
   "execution_count": 18,
   "metadata": {},
   "outputs": [
    {
     "output_type": "execute_result",
     "data": {
      "text/plain": [
       "{'Header': [{'status': 'Success',\n",
       "   'request_time': '2020-11-13T16:11:18-05:00',\n",
       "   'url': 'https://aqs.epa.gov/data/api/list/classes?email=js66%40illinois.edu&key=bluecrane69',\n",
       "   'rows': 26}],\n",
       " 'Data': [{'code': 'AIRNOW MAPS',\n",
       "   'value_represented': 'The parameters represented on AirNow maps (88101, 88502, and 44201)'},\n",
       "  {'code': 'ALL', 'value_represented': 'Select all Parameters Available'},\n",
       "  {'code': 'AQI POLLUTANTS',\n",
       "   'value_represented': 'Pollutants that have an AQI Defined'},\n",
       "  {'code': 'CORE_HAPS', 'value_represented': 'Urban Air Toxic Pollutants'},\n",
       "  {'code': 'CRITERIA', 'value_represented': 'Criteria Pollutants'},\n",
       "  {'code': 'CSN DART',\n",
       "   'value_represented': 'List of CSN speciation parameters to populate the STI DART tool'},\n",
       "  {'code': 'FORECAST',\n",
       "   'value_represented': 'Parameters routinely extracted by AirNow (STI)'},\n",
       "  {'code': 'HAPS', 'value_represented': 'Hazardous Air Pollutants'},\n",
       "  {'code': 'IMPROVE CARBON', 'value_represented': 'IMPROVE Carbon Parameters'},\n",
       "  {'code': 'IMPROVE_SPECIATION',\n",
       "   'value_represented': 'PM2.5 Speciated Parameters Measured at IMPROVE sites'},\n",
       "  {'code': 'MET', 'value_represented': 'Meteorological Parameters'},\n",
       "  {'code': 'NATTS CORE HAPS',\n",
       "   'value_represented': 'The core list of toxics of interest to the NATTS program.'},\n",
       "  {'code': 'NATTS REQUIRED',\n",
       "   'value_represented': 'Required compounds to be collected in the National Air Toxics Network'},\n",
       "  {'code': 'PAMS',\n",
       "   'value_represented': 'Photochemical Assessment Monitoring System'},\n",
       "  {'code': 'PAMS_VOC',\n",
       "   'value_represented': 'Volatile Organic Compound subset of the PAMS Parameters'},\n",
       "  {'code': 'PM COARSE',\n",
       "   'value_represented': 'PM between 2.5 and 10 micrometers'},\n",
       "  {'code': 'PM10 SPECIATION',\n",
       "   'value_represented': 'PM10 Speciated Parameters'},\n",
       "  {'code': 'PM2.5 CONT NONREF',\n",
       "   'value_represented': 'PM2.5 Continuous, Nonreference Methods'},\n",
       "  {'code': 'PM2.5 MASS/QA',\n",
       "   'value_represented': 'PM2.5 Mass and QA Parameters'},\n",
       "  {'code': 'SCHOOL AIR TOXICS',\n",
       "   'value_represented': 'School Air Toxics Program Parameters'},\n",
       "  {'code': 'SPECIATION', 'value_represented': 'PM2.5 Speciated Parameters'},\n",
       "  {'code': 'SPECIATION CARBON',\n",
       "   'value_represented': 'PM2.5 Speciation Carbon Parameters'},\n",
       "  {'code': 'SPECIATION CATION/ANION',\n",
       "   'value_represented': 'PM2.5 Speciation Cation/Anion Parameters'},\n",
       "  {'code': 'SPECIATION METALS',\n",
       "   'value_represented': 'PM2.5 Speciation Metal Parameters'},\n",
       "  {'code': 'UATMP CARBONYL',\n",
       "   'value_represented': 'Urban Air Toxics Monitoring Program Carbonyls'},\n",
       "  {'code': 'UATMP VOC',\n",
       "   'value_represented': 'Urban Air Toxics Monitoring Program VOCs'}]}"
      ]
     },
     "metadata": {},
     "execution_count": 18
    }
   ],
   "source": [
    "parameter_classes.json()"
   ]
  },
  {
   "cell_type": "code",
   "execution_count": 19,
   "metadata": {},
   "outputs": [],
   "source": [
    "aqi_pollutants = requests.get('https://aqs.epa.gov/data/api/list/parametersByClass', params={'email': 'js66@illinois.edu', 'key': 'bluecrane69', 'pc': 'AQI POLLUTANTS'})"
   ]
  },
  {
   "cell_type": "code",
   "execution_count": 20,
   "metadata": {},
   "outputs": [
    {
     "output_type": "execute_result",
     "data": {
      "text/plain": [
       "{'Header': [{'status': 'Success',\n",
       "   'request_time': '2020-11-13T16:13:49-05:00',\n",
       "   'url': 'https://aqs.epa.gov/data/api/list/parametersByClass?email=js66%40illinois.edu&key=bluecrane69&pc=AQI+POLLUTANTS',\n",
       "   'rows': 7}],\n",
       " 'Data': [{'code': '42101', 'value_represented': 'Carbon monoxide'},\n",
       "  {'code': '42401', 'value_represented': 'Sulfur dioxide'},\n",
       "  {'code': '42602', 'value_represented': 'Nitrogen dioxide (NO2)'},\n",
       "  {'code': '44201', 'value_represented': 'Ozone'},\n",
       "  {'code': '81102', 'value_represented': 'PM10 Total 0-10um STP'},\n",
       "  {'code': '88101', 'value_represented': 'PM2.5 - Local Conditions'},\n",
       "  {'code': '88502',\n",
       "   'value_represented': 'Acceptable PM2.5 AQI & Speciation Mass'}]}"
      ]
     },
     "metadata": {},
     "execution_count": 20
    }
   ],
   "source": [
    "aqi_pollutants.json()"
   ]
  },
  {
   "cell_type": "code",
   "execution_count": null,
   "metadata": {},
   "outputs": [],
   "source": []
  }
 ]
}